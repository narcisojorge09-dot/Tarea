{
  "nbformat": 4,
  "nbformat_minor": 0,
  "metadata": {
    "colab": {
      "provenance": [],
      "authorship_tag": "ABX9TyNL8xRCcJqZNQKhdg8VB164",
      "include_colab_link": true
    },
    "kernelspec": {
      "name": "python3",
      "display_name": "Python 3"
    },
    "language_info": {
      "name": "python"
    }
  },
  "cells": [
    {
      "cell_type": "markdown",
      "metadata": {
        "id": "view-in-github",
        "colab_type": "text"
      },
      "source": [
        "<a href=\"https://colab.research.google.com/github/narcisojorge09-dot/Tarea/blob/main/Gauss_Seidel.ipynb\" target=\"_parent\"><img src=\"https://colab.research.google.com/assets/colab-badge.svg\" alt=\"Open In Colab\"/></a>"
      ]
    },
    {
      "cell_type": "code",
      "execution_count": 1,
      "metadata": {
        "colab": {
          "base_uri": "https://localhost:8080/"
        },
        "id": "LP7sgMlR9OLv",
        "outputId": "a70ce2ec-7718-46c1-f443-f56712a37488"
      },
      "outputs": [
        {
          "output_type": "stream",
          "name": "stdout",
          "text": [
            "Convergió en 11 iteraciones.\n",
            "Solución aproximada: [0.50000005 0.99999998 0.49999999]\n"
          ]
        }
      ],
      "source": [
        "import numpy as np\n",
        "\n",
        "def gauss_seidel(A, b, x0=None, tol=1e-6, max_iter=100):\n",
        "    \"\"\"\n",
        "    Método iterativo de Gauss-Seidel\n",
        "    A: matriz de coeficientes\n",
        "    b: vector de términos independientes\n",
        "    x0: vector inicial (opcional)\n",
        "    tol: tolerancia para el error\n",
        "    max_iter: número máximo de iteraciones\n",
        "    \"\"\"\n",
        "    n = len(b)\n",
        "    if x0 is None:\n",
        "        x = np.zeros(n)\n",
        "    else:\n",
        "        x = x0.copy()\n",
        "\n",
        "    for k in range(max_iter):\n",
        "        x_new = np.copy(x)\n",
        "        for i in range(n):\n",
        "            sum1 = sum(A[i][j] * x_new[j] for j in range(i))     # usa los valores nuevos\n",
        "            sum2 = sum(A[i][j] * x[j] for j in range(i+1, n))    # usa los valores viejos\n",
        "            x_new[i] = (b[i] - sum1 - sum2) / A[i][i]\n",
        "\n",
        "        # Criterio de parada\n",
        "        if np.linalg.norm(x_new - x, ord=np.inf) < tol:\n",
        "            print(f\"Convergió en {k+1} iteraciones.\")\n",
        "            return x_new\n",
        "        x = x_new\n",
        "\n",
        "    print(\"No convergió en el número máximo de iteraciones.\")\n",
        "    return x\n",
        "\n",
        "# Ejemplo de uso:\n",
        "A = np.array([[4, 1, 2],\n",
        "              [3, 5, 1],\n",
        "              [1, 1, 3]], dtype=float)\n",
        "\n",
        "b = np.array([4, 7, 3], dtype=float)\n",
        "\n",
        "sol = gauss_seidel(A, b, tol=1e-6)\n",
        "print(\"Solución aproximada:\", sol)"
      ]
    }
  ]
}
{
  "nbformat": 4,
  "nbformat_minor": 0,
  "metadata": {
    "colab": {
      "provenance": [],
      "authorship_tag": "ABX9TyOcwIYQ3Vib36kr7NfkPlfB",
      "include_colab_link": true
    },
    "kernelspec": {
      "name": "python3",
      "display_name": "Python 3"
    },
    "language_info": {
      "name": "python"
    }
  },
  "cells": [
    {
      "cell_type": "markdown",
      "metadata": {
        "id": "view-in-github",
        "colab_type": "text"
      },
      "source": [
        "<a href=\"https://colab.research.google.com/github/narcisojorge09-dot/Tarea/blob/main/M%C3%A9todo_Jacobi.ipynb\" target=\"_parent\"><img src=\"https://colab.research.google.com/assets/colab-badge.svg\" alt=\"Open In Colab\"/></a>"
      ]
    },
    {
      "cell_type": "code",
      "execution_count": null,
      "metadata": {
        "colab": {
          "base_uri": "https://localhost:8080/"
        },
        "id": "dhNvwcaJV8Qy",
        "outputId": "bab9cc6a-5d62-4dbd-8bac-40749e0689d9"
      },
      "outputs": [
        {
          "output_type": "stream",
          "name": "stdout",
          "text": [
            "Convergencia alcanzada en 24 iteraciones.\n",
            "Solución aproximada: [ 1.  2. -1.  1.]\n"
          ]
        }
      ],
      "source": [
        "# Método de Jacobi - Implementación en Python\n",
        "import numpy as np\n",
        "\n",
        "def jacobi(A, b, x0=None, tol=1e-10, max_iter=100):\n",
        "    \"\"\"\n",
        "    Método iterativo de Jacobi para resolver Ax = b.\n",
        "\n",
        "    Parámetros:\n",
        "    A : matriz de coeficientes (numpy array)\n",
        "    b : vector independiente (numpy array)\n",
        "    x0 : vector inicial (numpy array, opcional)\n",
        "    tol : tolerancia del error\n",
        "    max_iter : número máximo de iteraciones\n",
        "\n",
        "    Retorna:\n",
        "    x : solución aproximada\n",
        "    historial : lista con las aproximaciones en cada iteración\n",
        "    \"\"\"\n",
        "    n = len(b)\n",
        "    if x0 is None:\n",
        "        x0 = np.zeros(n)\n",
        "\n",
        "    x = x0.copy()\n",
        "    historial = [x0.copy()]\n",
        "\n",
        "    for k in range(max_iter):\n",
        "        x_new = np.zeros_like(x)\n",
        "        for i in range(n):\n",
        "            suma = sum(A[i][j] * x[j] for j in range(n) if j != i)\n",
        "            x_new[i] = (b[i] - suma) / A[i][i]\n",
        "\n",
        "        historial.append(x_new.copy())\n",
        "\n",
        "        # Verificar tolerancia\n",
        "        if np.linalg.norm(x_new - x, ord=np.inf) < tol:\n",
        "            print(f\"Convergencia alcanzada en {k+1} iteraciones.\")\n",
        "            return x_new, historial\n",
        "\n",
        "        x = x_new\n",
        "\n",
        "    print(\"Número máximo de iteraciones alcanzado.\")\n",
        "    return x, historial\n",
        "\n",
        "# Ejemplo de uso:\n",
        "A = np.array([[10.0, -1.0, 2.0, 0.0],\n",
        "              [-1.0, 11.0, -1.0, 3.0],\n",
        "              [2.0, -1.0, 10.0, -1.0],\n",
        "              [0.0, 3.0, -1.0, 8.0]])\n",
        "\n",
        "b = np.array([6.0, 25.0, -11.0, 15.0])\n",
        "\n",
        "x0 = np.zeros(len(b))\n",
        "\n",
        "sol, historial = jacobi(A, b, x0, tol=1e-8, max_iter=100)\n",
        "\n",
        "print(\"Solución aproximada:\", sol)"
      ]
    }
  ]
}